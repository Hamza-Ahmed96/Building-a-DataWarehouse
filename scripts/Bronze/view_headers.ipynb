{
 "cells": [
  {
   "cell_type": "markdown",
   "id": "04b0a058",
   "metadata": {},
   "source": [
    "## Script Purpose"
   ]
  },
  {
   "cell_type": "markdown",
   "id": "ddbb469f",
   "metadata": {},
   "source": [
    "This script extracts header and object information of the source_crm and source_erp files in the dataset folder. This makes it easier to make the tables in the bronze layer "
   ]
  },
  {
   "cell_type": "code",
   "execution_count": 1,
   "id": "45c50c06",
   "metadata": {},
   "outputs": [],
   "source": [
    "import pandas as pd\n",
    "import os"
   ]
  },
  {
   "cell_type": "code",
   "execution_count": 13,
   "id": "881dbe9c",
   "metadata": {},
   "outputs": [
    {
     "data": {
      "text/plain": [
       "['cust_info.csv', 'prd_info.csv', 'sales_details.csv']"
      ]
     },
     "execution_count": 13,
     "metadata": {},
     "output_type": "execute_result"
    }
   ],
   "source": [
    "crm_files"
   ]
  },
  {
   "cell_type": "code",
   "execution_count": null,
   "id": "89e78da8",
   "metadata": {},
   "outputs": [],
   "source": [
    "in_dir_crm = '../datasets/source_crm'\n",
    "crm_files = os.listdir(in_dir_crm)\n",
    "headers_crm = {}\n",
    "for file in crm_files:\n",
    "    df = pd.read_csv(os.path.join(in_dir_crm, file))\n",
    "    headers_crm[file[:-4]] = df.columns.to_list()\n",
    "    print(df.info())"
   ]
  },
  {
   "cell_type": "code",
   "execution_count": 28,
   "id": "e977df2b",
   "metadata": {},
   "outputs": [
    {
     "name": "stdout",
     "output_type": "stream",
     "text": [
      "<class 'pandas.core.frame.DataFrame'>\n",
      "RangeIndex: 18484 entries, 0 to 18483\n",
      "Data columns (total 3 columns):\n",
      " #   Column  Non-Null Count  Dtype \n",
      "---  ------  --------------  ----- \n",
      " 0   CID     18484 non-null  object\n",
      " 1   BDATE   18484 non-null  object\n",
      " 2   GEN     17012 non-null  object\n",
      "dtypes: object(3)\n",
      "memory usage: 433.3+ KB\n",
      "None\n",
      "<class 'pandas.core.frame.DataFrame'>\n",
      "RangeIndex: 18484 entries, 0 to 18483\n",
      "Data columns (total 2 columns):\n",
      " #   Column  Non-Null Count  Dtype \n",
      "---  ------  --------------  ----- \n",
      " 0   CID     18484 non-null  object\n",
      " 1   CNTRY   18152 non-null  object\n",
      "dtypes: object(2)\n",
      "memory usage: 288.9+ KB\n",
      "None\n",
      "<class 'pandas.core.frame.DataFrame'>\n",
      "RangeIndex: 37 entries, 0 to 36\n",
      "Data columns (total 4 columns):\n",
      " #   Column       Non-Null Count  Dtype \n",
      "---  ------       --------------  ----- \n",
      " 0   ID           37 non-null     object\n",
      " 1   CAT          37 non-null     object\n",
      " 2   SUBCAT       37 non-null     object\n",
      " 3   MAINTENANCE  37 non-null     object\n",
      "dtypes: object(4)\n",
      "memory usage: 1.3+ KB\n",
      "None\n"
     ]
    }
   ],
   "source": [
    "in_dir_erp = '../datasets/source_erp'\n",
    "erp_files = os.listdir(in_dir_erp)\n",
    "headers_erp = {}\n",
    "\n",
    "for file in erp_files:\n",
    "    df = pd.read_csv(os.path.join(in_dir_erp, file))\n",
    "    headers_erp[file[:-4]] = df.columns.to_list()\n",
    "    print(df.info())"
   ]
  }
 ],
 "metadata": {
  "kernelspec": {
   "display_name": "Python 3",
   "language": "python",
   "name": "python3"
  },
  "language_info": {
   "codemirror_mode": {
    "name": "ipython",
    "version": 3
   },
   "file_extension": ".py",
   "mimetype": "text/x-python",
   "name": "python",
   "nbconvert_exporter": "python",
   "pygments_lexer": "ipython3",
   "version": "3.13.5"
  }
 },
 "nbformat": 4,
 "nbformat_minor": 5
}
